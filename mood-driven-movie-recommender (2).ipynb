{
  "metadata": {
    "kernelspec": {
      "name": "python3",
      "display_name": "Python 3",
      "language": "python"
    },
    "language_info": {
      "name": "python",
      "version": "3.10.14",
      "mimetype": "text/x-python",
      "codemirror_mode": {
        "name": "ipython",
        "version": 3
      },
      "pygments_lexer": "ipython3",
      "nbconvert_exporter": "python",
      "file_extension": ".py"
    },
    "accelerator": "GPU",
    "colab": {
      "authorship_tag": "ABX9TyPW+w+XjPbn2E8UGMj0bXLh",
      "gpuType": "T4",
      "name": "",
      "version": ""
    },
    "kaggle": {
      "accelerator": "nvidiaTeslaT4",
      "dataSources": [],
      "dockerImageVersionId": 30787,
      "isInternetEnabled": true,
      "language": "python",
      "sourceType": "notebook",
      "isGpuEnabled": true
    }
  },
  "nbformat_minor": 4,
  "nbformat": 4,
  "cells": [
    {
      "cell_type": "markdown",
      "source": "# **Mood-Driven Movie Recommender System Using NLP**",
      "metadata": {}
    },
    {
      "cell_type": "markdown",
      "source": "## Overview: Mood-Driven Movie Recommender System\nThis AI project explores the intersection of Natural Language Processing (NLP) and user sentiment analysis to create a personalized **Mood-Driven Movie Recommender System.** By leveraging the **DistilBERT** transformer model, fine-tuned on the **Emotion** dataset from the Hugging Face repository, this system classifies user-input text into one of six distinct emotions. Based on the identified mood, the system recommends a curated list of movies that align with the user's emotional state.\n\nThe core of the project involves training an NLP model to detect emotions from textual input and pairing those emotions with a database of movies. Using APIs like **The Movie Database (TMDb)**, the system retrieves movie recommendations dynamically, ensuring relevance and variety. This personalized approach enhances the user experience by making movie discovery more intuitive and emotionally aligned.\n\nKey features of this project include:\n\n* Emotion Classification: Utilizes a fine-tuned version of DistilBERT to identify emotions like \"joy,\" \"sadness,\" \"anger,\" and more from text input.\n  \n* Movie Recommendation Engine: Maps detected emotions to movie genres or specific films, providing users with recommendations tailored to their mood.\n  \n* Streamlined Workflow: Implements tokenization, fine-tuning, and inference seamlessly using the Hugging Face library and PyTorch.\n  \n* Robust Methodology: Combines data preprocessing, hyperparameter optimization, and evaluation metrics to ensure a high-performing model.\n  \nThis project demonstrates how AI can enhance personalized experiences by understanding user emotions and transforming them into actionable outputs. It also serves as a practical example of applying transformer-based NLP techniques in real-world scenarios.",
      "metadata": {}
    },
    {
      "cell_type": "code",
      "source": "# Clear output folder\n# import os\n\n# def remove_folder_contents(folder):\n#     for the_file in os.listdir(folder):\n#         file_path = os.path.join(folder, the_file)\n#         try:\n#             if os.path.isfile(file_path):\n#                 os.unlink(file_path)\n#             elif os.path.isdir(file_path):\n#                 remove_folder_contents(file_path)\n#                 os.rmdir(file_path)\n#         except Exception as e:\n#             print(e)\n\n# folder_path = '/kaggle/working'\n# remove_folder_contents(folder_path)\n# os.rmdir(folder_path)",
      "metadata": {
        "trusted": true
      },
      "outputs": [],
      "execution_count": null
    },
    {
      "cell_type": "code",
      "source": "!pip install -U transformers\n\n!pip install -U accelerate\n\n!pip install -U datasets\n\n!pip install -U bertviz\n\n!pip install -U umap-learn",
      "metadata": {
        "colab": {
          "base_uri": "https://localhost:8080/"
        },
        "executionInfo": {
          "elapsed": 53392,
          "status": "ok",
          "timestamp": 1732291198754,
          "user": {
            "displayName": "Sean Marakalala",
            "userId": "13506204736939427823"
          },
          "user_tz": -120
        },
        "id": "afeM8R5zl7vZ",
        "outputId": "8480de3a-b2ec-47a2-99b5-e593eb4bb95e",
        "trusted": true,
        "execution": {
          "iopub.status.busy": "2024-11-26T16:48:07.352054Z",
          "iopub.execute_input": "2024-11-26T16:48:07.352955Z",
          "iopub.status.idle": "2024-11-26T16:48:48.886127Z",
          "shell.execute_reply.started": "2024-11-26T16:48:07.352907Z",
          "shell.execute_reply": "2024-11-26T16:48:48.885257Z"
        }
      },
      "outputs": [
        {
          "name": "stderr",
          "text": "/opt/conda/lib/python3.10/pty.py:89: RuntimeWarning: os.fork() was called. os.fork() is incompatible with multithreaded code, and JAX is multithreaded, so this will likely lead to a deadlock.\n  pid, fd = os.forkpty()\nhuggingface/tokenizers: The current process just got forked, after parallelism has already been used. Disabling parallelism to avoid deadlocks...\nTo disable this warning, you can either:\n\t- Avoid using `tokenizers` before the fork if possible\n\t- Explicitly set the environment variable TOKENIZERS_PARALLELISM=(true | false)\n",
          "output_type": "stream"
        },
        {
          "name": "stdout",
          "text": "Requirement already satisfied: transformers in /opt/conda/lib/python3.10/site-packages (4.46.3)\nRequirement already satisfied: filelock in /opt/conda/lib/python3.10/site-packages (from transformers) (3.15.1)\nRequirement already satisfied: huggingface-hub<1.0,>=0.23.2 in /opt/conda/lib/python3.10/site-packages (from transformers) (0.25.1)\nRequirement already satisfied: numpy>=1.17 in /opt/conda/lib/python3.10/site-packages (from transformers) (1.26.4)\nRequirement already satisfied: packaging>=20.0 in /opt/conda/lib/python3.10/site-packages (from transformers) (21.3)\nRequirement already satisfied: pyyaml>=5.1 in /opt/conda/lib/python3.10/site-packages (from transformers) (6.0.2)\nRequirement already satisfied: regex!=2019.12.17 in /opt/conda/lib/python3.10/site-packages (from transformers) (2024.5.15)\nRequirement already satisfied: requests in /opt/conda/lib/python3.10/site-packages (from transformers) (2.32.3)\nRequirement already satisfied: tokenizers<0.21,>=0.20 in /opt/conda/lib/python3.10/site-packages (from transformers) (0.20.0)\nRequirement already satisfied: safetensors>=0.4.1 in /opt/conda/lib/python3.10/site-packages (from transformers) (0.4.5)\nRequirement already satisfied: tqdm>=4.27 in /opt/conda/lib/python3.10/site-packages (from transformers) (4.66.4)\nRequirement already satisfied: fsspec>=2023.5.0 in /opt/conda/lib/python3.10/site-packages (from huggingface-hub<1.0,>=0.23.2->transformers) (2024.6.1)\nRequirement already satisfied: typing-extensions>=3.7.4.3 in /opt/conda/lib/python3.10/site-packages (from huggingface-hub<1.0,>=0.23.2->transformers) (4.12.2)\nRequirement already satisfied: pyparsing!=3.0.5,>=2.0.2 in /opt/conda/lib/python3.10/site-packages (from packaging>=20.0->transformers) (3.1.2)\nRequirement already satisfied: charset-normalizer<4,>=2 in /opt/conda/lib/python3.10/site-packages (from requests->transformers) (3.3.2)\nRequirement already satisfied: idna<4,>=2.5 in /opt/conda/lib/python3.10/site-packages (from requests->transformers) (3.7)\nRequirement already satisfied: urllib3<3,>=1.21.1 in /opt/conda/lib/python3.10/site-packages (from requests->transformers) (1.26.18)\nRequirement already satisfied: certifi>=2017.4.17 in /opt/conda/lib/python3.10/site-packages (from requests->transformers) (2024.8.30)\n",
          "output_type": "stream"
        },
        {
          "name": "stderr",
          "text": "huggingface/tokenizers: The current process just got forked, after parallelism has already been used. Disabling parallelism to avoid deadlocks...\nTo disable this warning, you can either:\n\t- Avoid using `tokenizers` before the fork if possible\n\t- Explicitly set the environment variable TOKENIZERS_PARALLELISM=(true | false)\n",
          "output_type": "stream"
        },
        {
          "name": "stdout",
          "text": "Requirement already satisfied: accelerate in /opt/conda/lib/python3.10/site-packages (1.1.1)\nRequirement already satisfied: huggingface-hub>=0.21.0 in /opt/conda/lib/python3.10/site-packages (from accelerate) (0.25.1)\nRequirement already satisfied: numpy<3.0.0,>=1.17 in /opt/conda/lib/python3.10/site-packages (from accelerate) (1.26.4)\nRequirement already satisfied: packaging>=20.0 in /opt/conda/lib/python3.10/site-packages (from accelerate) (21.3)\nRequirement already satisfied: psutil in /opt/conda/lib/python3.10/site-packages (from accelerate) (5.9.3)\nRequirement already satisfied: pyyaml in /opt/conda/lib/python3.10/site-packages (from accelerate) (6.0.2)\nRequirement already satisfied: safetensors>=0.4.3 in /opt/conda/lib/python3.10/site-packages (from accelerate) (0.4.5)\nRequirement already satisfied: torch>=1.10.0 in /opt/conda/lib/python3.10/site-packages (from accelerate) (2.4.0)\nRequirement already satisfied: filelock in /opt/conda/lib/python3.10/site-packages (from huggingface-hub>=0.21.0->accelerate) (3.15.1)\nRequirement already satisfied: fsspec>=2023.5.0 in /opt/conda/lib/python3.10/site-packages (from huggingface-hub>=0.21.0->accelerate) (2024.6.1)\nRequirement already satisfied: requests in /opt/conda/lib/python3.10/site-packages (from huggingface-hub>=0.21.0->accelerate) (2.32.3)\nRequirement already satisfied: tqdm>=4.42.1 in /opt/conda/lib/python3.10/site-packages (from huggingface-hub>=0.21.0->accelerate) (4.66.4)\nRequirement already satisfied: typing-extensions>=3.7.4.3 in /opt/conda/lib/python3.10/site-packages (from huggingface-hub>=0.21.0->accelerate) (4.12.2)\nRequirement already satisfied: pyparsing!=3.0.5,>=2.0.2 in /opt/conda/lib/python3.10/site-packages (from packaging>=20.0->accelerate) (3.1.2)\nRequirement already satisfied: sympy in /opt/conda/lib/python3.10/site-packages (from torch>=1.10.0->accelerate) (1.13.3)\nRequirement already satisfied: networkx in /opt/conda/lib/python3.10/site-packages (from torch>=1.10.0->accelerate) (3.3)\nRequirement already satisfied: jinja2 in /opt/conda/lib/python3.10/site-packages (from torch>=1.10.0->accelerate) (3.1.4)\nRequirement already satisfied: MarkupSafe>=2.0 in /opt/conda/lib/python3.10/site-packages (from jinja2->torch>=1.10.0->accelerate) (2.1.5)\nRequirement already satisfied: charset-normalizer<4,>=2 in /opt/conda/lib/python3.10/site-packages (from requests->huggingface-hub>=0.21.0->accelerate) (3.3.2)\nRequirement already satisfied: idna<4,>=2.5 in /opt/conda/lib/python3.10/site-packages (from requests->huggingface-hub>=0.21.0->accelerate) (3.7)\nRequirement already satisfied: urllib3<3,>=1.21.1 in /opt/conda/lib/python3.10/site-packages (from requests->huggingface-hub>=0.21.0->accelerate) (1.26.18)\nRequirement already satisfied: certifi>=2017.4.17 in /opt/conda/lib/python3.10/site-packages (from requests->huggingface-hub>=0.21.0->accelerate) (2024.8.30)\nRequirement already satisfied: mpmath<1.4,>=1.1.0 in /opt/conda/lib/python3.10/site-packages (from sympy->torch>=1.10.0->accelerate) (1.3.0)\n",
          "output_type": "stream"
        },
        {
          "name": "stderr",
          "text": "huggingface/tokenizers: The current process just got forked, after parallelism has already been used. Disabling parallelism to avoid deadlocks...\nTo disable this warning, you can either:\n\t- Avoid using `tokenizers` before the fork if possible\n\t- Explicitly set the environment variable TOKENIZERS_PARALLELISM=(true | false)\n",
          "output_type": "stream"
        },
        {
          "name": "stdout",
          "text": "Requirement already satisfied: datasets in /opt/conda/lib/python3.10/site-packages (3.1.0)\nRequirement already satisfied: filelock in /opt/conda/lib/python3.10/site-packages (from datasets) (3.15.1)\nRequirement already satisfied: numpy>=1.17 in /opt/conda/lib/python3.10/site-packages (from datasets) (1.26.4)\nRequirement already satisfied: pyarrow>=15.0.0 in /opt/conda/lib/python3.10/site-packages (from datasets) (16.1.0)\nRequirement already satisfied: dill<0.3.9,>=0.3.0 in /opt/conda/lib/python3.10/site-packages (from datasets) (0.3.8)\nRequirement already satisfied: pandas in /opt/conda/lib/python3.10/site-packages (from datasets) (2.2.2)\nRequirement already satisfied: requests>=2.32.2 in /opt/conda/lib/python3.10/site-packages (from datasets) (2.32.3)\nRequirement already satisfied: tqdm>=4.66.3 in /opt/conda/lib/python3.10/site-packages (from datasets) (4.66.4)\nRequirement already satisfied: xxhash in /opt/conda/lib/python3.10/site-packages (from datasets) (3.4.1)\nRequirement already satisfied: multiprocess<0.70.17 in /opt/conda/lib/python3.10/site-packages (from datasets) (0.70.16)\nRequirement already satisfied: fsspec<=2024.9.0,>=2023.1.0 in /opt/conda/lib/python3.10/site-packages (from fsspec[http]<=2024.9.0,>=2023.1.0->datasets) (2024.6.1)\nRequirement already satisfied: aiohttp in /opt/conda/lib/python3.10/site-packages (from datasets) (3.9.5)\nRequirement already satisfied: huggingface-hub>=0.23.0 in /opt/conda/lib/python3.10/site-packages (from datasets) (0.25.1)\nRequirement already satisfied: packaging in /opt/conda/lib/python3.10/site-packages (from datasets) (21.3)\nRequirement already satisfied: pyyaml>=5.1 in /opt/conda/lib/python3.10/site-packages (from datasets) (6.0.2)\nRequirement already satisfied: aiosignal>=1.1.2 in /opt/conda/lib/python3.10/site-packages (from aiohttp->datasets) (1.3.1)\nRequirement already satisfied: attrs>=17.3.0 in /opt/conda/lib/python3.10/site-packages (from aiohttp->datasets) (23.2.0)\nRequirement already satisfied: frozenlist>=1.1.1 in /opt/conda/lib/python3.10/site-packages (from aiohttp->datasets) (1.4.1)\nRequirement already satisfied: multidict<7.0,>=4.5 in /opt/conda/lib/python3.10/site-packages (from aiohttp->datasets) (6.0.5)\nRequirement already satisfied: yarl<2.0,>=1.0 in /opt/conda/lib/python3.10/site-packages (from aiohttp->datasets) (1.9.4)\nRequirement already satisfied: async-timeout<5.0,>=4.0 in /opt/conda/lib/python3.10/site-packages (from aiohttp->datasets) (4.0.3)\nRequirement already satisfied: typing-extensions>=3.7.4.3 in /opt/conda/lib/python3.10/site-packages (from huggingface-hub>=0.23.0->datasets) (4.12.2)\nRequirement already satisfied: pyparsing!=3.0.5,>=2.0.2 in /opt/conda/lib/python3.10/site-packages (from packaging->datasets) (3.1.2)\nRequirement already satisfied: charset-normalizer<4,>=2 in /opt/conda/lib/python3.10/site-packages (from requests>=2.32.2->datasets) (3.3.2)\nRequirement already satisfied: idna<4,>=2.5 in /opt/conda/lib/python3.10/site-packages (from requests>=2.32.2->datasets) (3.7)\nRequirement already satisfied: urllib3<3,>=1.21.1 in /opt/conda/lib/python3.10/site-packages (from requests>=2.32.2->datasets) (1.26.18)\nRequirement already satisfied: certifi>=2017.4.17 in /opt/conda/lib/python3.10/site-packages (from requests>=2.32.2->datasets) (2024.8.30)\nRequirement already satisfied: python-dateutil>=2.8.2 in /opt/conda/lib/python3.10/site-packages (from pandas->datasets) (2.9.0.post0)\nRequirement already satisfied: pytz>=2020.1 in /opt/conda/lib/python3.10/site-packages (from pandas->datasets) (2024.1)\nRequirement already satisfied: tzdata>=2022.7 in /opt/conda/lib/python3.10/site-packages (from pandas->datasets) (2024.1)\nRequirement already satisfied: six>=1.5 in /opt/conda/lib/python3.10/site-packages (from python-dateutil>=2.8.2->pandas->datasets) (1.16.0)\n",
          "output_type": "stream"
        },
        {
          "name": "stderr",
          "text": "huggingface/tokenizers: The current process just got forked, after parallelism has already been used. Disabling parallelism to avoid deadlocks...\nTo disable this warning, you can either:\n\t- Avoid using `tokenizers` before the fork if possible\n\t- Explicitly set the environment variable TOKENIZERS_PARALLELISM=(true | false)\n",
          "output_type": "stream"
        },
        {
          "name": "stdout",
          "text": "Requirement already satisfied: bertviz in /opt/conda/lib/python3.10/site-packages (1.4.0)\nRequirement already satisfied: transformers>=2.0 in /opt/conda/lib/python3.10/site-packages (from bertviz) (4.46.3)\nRequirement already satisfied: torch>=1.0 in /opt/conda/lib/python3.10/site-packages (from bertviz) (2.4.0)\nRequirement already satisfied: tqdm in /opt/conda/lib/python3.10/site-packages (from bertviz) (4.66.4)\nRequirement already satisfied: boto3 in /opt/conda/lib/python3.10/site-packages (from bertviz) (1.26.100)\nRequirement already satisfied: requests in /opt/conda/lib/python3.10/site-packages (from bertviz) (2.32.3)\nRequirement already satisfied: regex in /opt/conda/lib/python3.10/site-packages (from bertviz) (2024.5.15)\nRequirement already satisfied: sentencepiece in /opt/conda/lib/python3.10/site-packages (from bertviz) (0.2.0)\nRequirement already satisfied: filelock in /opt/conda/lib/python3.10/site-packages (from torch>=1.0->bertviz) (3.15.1)\nRequirement already satisfied: typing-extensions>=4.8.0 in /opt/conda/lib/python3.10/site-packages (from torch>=1.0->bertviz) (4.12.2)\nRequirement already satisfied: sympy in /opt/conda/lib/python3.10/site-packages (from torch>=1.0->bertviz) (1.13.3)\nRequirement already satisfied: networkx in /opt/conda/lib/python3.10/site-packages (from torch>=1.0->bertviz) (3.3)\nRequirement already satisfied: jinja2 in /opt/conda/lib/python3.10/site-packages (from torch>=1.0->bertviz) (3.1.4)\nRequirement already satisfied: fsspec in /opt/conda/lib/python3.10/site-packages (from torch>=1.0->bertviz) (2024.6.1)\nRequirement already satisfied: huggingface-hub<1.0,>=0.23.2 in /opt/conda/lib/python3.10/site-packages (from transformers>=2.0->bertviz) (0.25.1)\nRequirement already satisfied: numpy>=1.17 in /opt/conda/lib/python3.10/site-packages (from transformers>=2.0->bertviz) (1.26.4)\nRequirement already satisfied: packaging>=20.0 in /opt/conda/lib/python3.10/site-packages (from transformers>=2.0->bertviz) (21.3)\nRequirement already satisfied: pyyaml>=5.1 in /opt/conda/lib/python3.10/site-packages (from transformers>=2.0->bertviz) (6.0.2)\nRequirement already satisfied: tokenizers<0.21,>=0.20 in /opt/conda/lib/python3.10/site-packages (from transformers>=2.0->bertviz) (0.20.0)\nRequirement already satisfied: safetensors>=0.4.1 in /opt/conda/lib/python3.10/site-packages (from transformers>=2.0->bertviz) (0.4.5)\nRequirement already satisfied: botocore<1.30.0,>=1.29.100 in /opt/conda/lib/python3.10/site-packages (from boto3->bertviz) (1.29.165)\nRequirement already satisfied: jmespath<2.0.0,>=0.7.1 in /opt/conda/lib/python3.10/site-packages (from boto3->bertviz) (1.0.1)\nRequirement already satisfied: s3transfer<0.7.0,>=0.6.0 in /opt/conda/lib/python3.10/site-packages (from boto3->bertviz) (0.6.2)\nRequirement already satisfied: charset-normalizer<4,>=2 in /opt/conda/lib/python3.10/site-packages (from requests->bertviz) (3.3.2)\nRequirement already satisfied: idna<4,>=2.5 in /opt/conda/lib/python3.10/site-packages (from requests->bertviz) (3.7)\nRequirement already satisfied: urllib3<3,>=1.21.1 in /opt/conda/lib/python3.10/site-packages (from requests->bertviz) (1.26.18)\nRequirement already satisfied: certifi>=2017.4.17 in /opt/conda/lib/python3.10/site-packages (from requests->bertviz) (2024.8.30)\nRequirement already satisfied: python-dateutil<3.0.0,>=2.1 in /opt/conda/lib/python3.10/site-packages (from botocore<1.30.0,>=1.29.100->boto3->bertviz) (2.9.0.post0)\nRequirement already satisfied: pyparsing!=3.0.5,>=2.0.2 in /opt/conda/lib/python3.10/site-packages (from packaging>=20.0->transformers>=2.0->bertviz) (3.1.2)\nRequirement already satisfied: MarkupSafe>=2.0 in /opt/conda/lib/python3.10/site-packages (from jinja2->torch>=1.0->bertviz) (2.1.5)\nRequirement already satisfied: mpmath<1.4,>=1.1.0 in /opt/conda/lib/python3.10/site-packages (from sympy->torch>=1.0->bertviz) (1.3.0)\nRequirement already satisfied: six>=1.5 in /opt/conda/lib/python3.10/site-packages (from python-dateutil<3.0.0,>=2.1->botocore<1.30.0,>=1.29.100->boto3->bertviz) (1.16.0)\n",
          "output_type": "stream"
        },
        {
          "name": "stderr",
          "text": "huggingface/tokenizers: The current process just got forked, after parallelism has already been used. Disabling parallelism to avoid deadlocks...\nTo disable this warning, you can either:\n\t- Avoid using `tokenizers` before the fork if possible\n\t- Explicitly set the environment variable TOKENIZERS_PARALLELISM=(true | false)\n",
          "output_type": "stream"
        },
        {
          "name": "stdout",
          "text": "Requirement already satisfied: umap-learn in /opt/conda/lib/python3.10/site-packages (0.5.7)\nRequirement already satisfied: numpy>=1.17 in /opt/conda/lib/python3.10/site-packages (from umap-learn) (1.26.4)\nRequirement already satisfied: scipy>=1.3.1 in /opt/conda/lib/python3.10/site-packages (from umap-learn) (1.14.1)\nRequirement already satisfied: scikit-learn>=0.22 in /opt/conda/lib/python3.10/site-packages (from umap-learn) (1.2.2)\nRequirement already satisfied: numba>=0.51.2 in /opt/conda/lib/python3.10/site-packages (from umap-learn) (0.60.0)\nRequirement already satisfied: pynndescent>=0.5 in /opt/conda/lib/python3.10/site-packages (from umap-learn) (0.5.13)\nRequirement already satisfied: tqdm in /opt/conda/lib/python3.10/site-packages (from umap-learn) (4.66.4)\nRequirement already satisfied: llvmlite<0.44,>=0.43.0dev0 in /opt/conda/lib/python3.10/site-packages (from numba>=0.51.2->umap-learn) (0.43.0)\nRequirement already satisfied: joblib>=0.11 in /opt/conda/lib/python3.10/site-packages (from pynndescent>=0.5->umap-learn) (1.4.2)\nRequirement already satisfied: threadpoolctl>=2.0.0 in /opt/conda/lib/python3.10/site-packages (from scikit-learn>=0.22->umap-learn) (3.5.0)\n",
          "output_type": "stream"
        }
      ],
      "execution_count": 85
    },
    {
      "cell_type": "code",
      "source": "# Cloud Storage\nfrom google.cloud import storage\nstorage_client = storage.Client(project='EmoMovies')\n",
      "metadata": {
        "trusted": true,
        "execution": {
          "iopub.status.busy": "2024-11-26T16:49:07.855951Z",
          "iopub.execute_input": "2024-11-26T16:49:07.856828Z",
          "iopub.status.idle": "2024-11-26T16:49:07.862603Z",
          "shell.execute_reply.started": "2024-11-26T16:49:07.856786Z",
          "shell.execute_reply": "2024-11-26T16:49:07.861714Z"
        }
      },
      "outputs": [],
      "execution_count": 86
    },
    {
      "cell_type": "markdown",
      "source": "# DATASET ANALYSIS",
      "metadata": {}
    },
    {
      "cell_type": "code",
      "source": "#loading emotion dataset\nfrom datasets import load_dataset\n\nemotion = load_dataset('emotion')\nemotion.set_format(type='pandas')",
      "metadata": {
        "colab": {
          "base_uri": "https://localhost:8080/",
          "height": 421
        },
        "executionInfo": {
          "elapsed": 5338,
          "status": "ok",
          "timestamp": 1732291861347,
          "user": {
            "displayName": "Sean Marakalala",
            "userId": "13506204736939427823"
          },
          "user_tz": -120
        },
        "id": "k4Wir9eRmlTN",
        "outputId": "c871cc3a-d834-4fe4-e669-94abb3094a13",
        "trusted": true,
        "execution": {
          "iopub.status.busy": "2024-11-26T16:49:13.057780Z",
          "iopub.execute_input": "2024-11-26T16:49:13.058089Z",
          "iopub.status.idle": "2024-11-26T16:49:15.120671Z",
          "shell.execute_reply.started": "2024-11-26T16:49:13.058061Z",
          "shell.execute_reply": "2024-11-26T16:49:15.119808Z"
        }
      },
      "outputs": [],
      "execution_count": 87
    },
    {
      "cell_type": "code",
      "source": "# Extract all rows from the 'train' dataset within the 'emotion' dictionary\ndf = emotion['train'][:]\ndf.head()",
      "metadata": {
        "colab": {
          "base_uri": "https://localhost:8080/",
          "height": 206
        },
        "executionInfo": {
          "elapsed": 396,
          "status": "ok",
          "timestamp": 1732291868733,
          "user": {
            "displayName": "Sean Marakalala",
            "userId": "13506204736939427823"
          },
          "user_tz": -120
        },
        "id": "fyrjexpKmnmv",
        "outputId": "33d3ff0d-526c-4dad-e75d-dafee9c1067a",
        "trusted": true,
        "execution": {
          "iopub.status.busy": "2024-11-26T16:49:16.399591Z",
          "iopub.execute_input": "2024-11-26T16:49:16.399918Z",
          "iopub.status.idle": "2024-11-26T16:49:16.417874Z",
          "shell.execute_reply.started": "2024-11-26T16:49:16.399890Z",
          "shell.execute_reply": "2024-11-26T16:49:16.417060Z"
        }
      },
      "outputs": [
        {
          "execution_count": 88,
          "output_type": "execute_result",
          "data": {
            "text/plain": "                                                text  label\n0                            i didnt feel humiliated      0\n1  i can go from feeling so hopeless to so damned...      0\n2   im grabbing a minute to post i feel greedy wrong      3\n3  i am ever feeling nostalgic about the fireplac...      2\n4                               i am feeling grouchy      3",
            "text/html": "<div>\n<style scoped>\n    .dataframe tbody tr th:only-of-type {\n        vertical-align: middle;\n    }\n\n    .dataframe tbody tr th {\n        vertical-align: top;\n    }\n\n    .dataframe thead th {\n        text-align: right;\n    }\n</style>\n<table border=\"1\" class=\"dataframe\">\n  <thead>\n    <tr style=\"text-align: right;\">\n      <th></th>\n      <th>text</th>\n      <th>label</th>\n    </tr>\n  </thead>\n  <tbody>\n    <tr>\n      <th>0</th>\n      <td>i didnt feel humiliated</td>\n      <td>0</td>\n    </tr>\n    <tr>\n      <th>1</th>\n      <td>i can go from feeling so hopeless to so damned...</td>\n      <td>0</td>\n    </tr>\n    <tr>\n      <th>2</th>\n      <td>im grabbing a minute to post i feel greedy wrong</td>\n      <td>3</td>\n    </tr>\n    <tr>\n      <th>3</th>\n      <td>i am ever feeling nostalgic about the fireplac...</td>\n      <td>2</td>\n    </tr>\n    <tr>\n      <th>4</th>\n      <td>i am feeling grouchy</td>\n      <td>3</td>\n    </tr>\n  </tbody>\n</table>\n</div>"
          },
          "metadata": {}
        }
      ],
      "execution_count": 88
    },
    {
      "cell_type": "code",
      "source": "classes = emotion['train'].features['label'].names\nclasses",
      "metadata": {
        "colab": {
          "base_uri": "https://localhost:8080/"
        },
        "executionInfo": {
          "elapsed": 363,
          "status": "ok",
          "timestamp": 1732291873603,
          "user": {
            "displayName": "Sean Marakalala",
            "userId": "13506204736939427823"
          },
          "user_tz": -120
        },
        "id": "Jv09op1goTBP",
        "outputId": "ae2d94d5-d0e8-4b73-ef5b-4a7936b09115",
        "trusted": true,
        "execution": {
          "iopub.status.busy": "2024-11-26T16:49:20.494020Z",
          "iopub.execute_input": "2024-11-26T16:49:20.494336Z",
          "iopub.status.idle": "2024-11-26T16:49:20.503638Z",
          "shell.execute_reply.started": "2024-11-26T16:49:20.494301Z",
          "shell.execute_reply": "2024-11-26T16:49:20.502364Z"
        }
      },
      "outputs": [
        {
          "execution_count": 89,
          "output_type": "execute_result",
          "data": {
            "text/plain": "['sadness', 'joy', 'love', 'anger', 'fear', 'surprise']"
          },
          "metadata": {}
        }
      ],
      "execution_count": 89
    },
    {
      "cell_type": "code",
      "source": "# Create a new column 'label_name' in the DataFrame\n# Map the integer labels in the 'label' column to their corresponding class names using the 'classes' list\ndf['label_name'] = df['label'].apply(lambda x: classes[x])",
      "metadata": {
        "executionInfo": {
          "elapsed": 386,
          "status": "ok",
          "timestamp": 1732291886489,
          "user": {
            "displayName": "Sean Marakalala",
            "userId": "13506204736939427823"
          },
          "user_tz": -120
        },
        "id": "wKUG223uoVaw",
        "trusted": true,
        "execution": {
          "iopub.status.busy": "2024-11-26T16:49:22.923612Z",
          "iopub.execute_input": "2024-11-26T16:49:22.923942Z",
          "iopub.status.idle": "2024-11-26T16:49:22.932681Z",
          "shell.execute_reply.started": "2024-11-26T16:49:22.923911Z",
          "shell.execute_reply": "2024-11-26T16:49:22.931856Z"
        }
      },
      "outputs": [],
      "execution_count": 90
    },
    {
      "cell_type": "code",
      "source": "df.head()",
      "metadata": {
        "colab": {
          "base_uri": "https://localhost:8080/",
          "height": 206
        },
        "executionInfo": {
          "elapsed": 402,
          "status": "ok",
          "timestamp": 1732291890059,
          "user": {
            "displayName": "Sean Marakalala",
            "userId": "13506204736939427823"
          },
          "user_tz": -120
        },
        "id": "EJhXnjZ4oXWP",
        "outputId": "a5807619-fffd-4274-8da9-808a1c432036",
        "trusted": true,
        "execution": {
          "iopub.status.busy": "2024-11-26T16:49:26.078034Z",
          "iopub.execute_input": "2024-11-26T16:49:26.078402Z",
          "iopub.status.idle": "2024-11-26T16:49:26.087905Z",
          "shell.execute_reply.started": "2024-11-26T16:49:26.078372Z",
          "shell.execute_reply": "2024-11-26T16:49:26.087129Z"
        }
      },
      "outputs": [
        {
          "execution_count": 91,
          "output_type": "execute_result",
          "data": {
            "text/plain": "                                                text  label label_name\n0                            i didnt feel humiliated      0    sadness\n1  i can go from feeling so hopeless to so damned...      0    sadness\n2   im grabbing a minute to post i feel greedy wrong      3      anger\n3  i am ever feeling nostalgic about the fireplac...      2       love\n4                               i am feeling grouchy      3      anger",
            "text/html": "<div>\n<style scoped>\n    .dataframe tbody tr th:only-of-type {\n        vertical-align: middle;\n    }\n\n    .dataframe tbody tr th {\n        vertical-align: top;\n    }\n\n    .dataframe thead th {\n        text-align: right;\n    }\n</style>\n<table border=\"1\" class=\"dataframe\">\n  <thead>\n    <tr style=\"text-align: right;\">\n      <th></th>\n      <th>text</th>\n      <th>label</th>\n      <th>label_name</th>\n    </tr>\n  </thead>\n  <tbody>\n    <tr>\n      <th>0</th>\n      <td>i didnt feel humiliated</td>\n      <td>0</td>\n      <td>sadness</td>\n    </tr>\n    <tr>\n      <th>1</th>\n      <td>i can go from feeling so hopeless to so damned...</td>\n      <td>0</td>\n      <td>sadness</td>\n    </tr>\n    <tr>\n      <th>2</th>\n      <td>im grabbing a minute to post i feel greedy wrong</td>\n      <td>3</td>\n      <td>anger</td>\n    </tr>\n    <tr>\n      <th>3</th>\n      <td>i am ever feeling nostalgic about the fireplac...</td>\n      <td>2</td>\n      <td>love</td>\n    </tr>\n    <tr>\n      <th>4</th>\n      <td>i am feeling grouchy</td>\n      <td>3</td>\n      <td>anger</td>\n    </tr>\n  </tbody>\n</table>\n</div>"
          },
          "metadata": {}
        }
      ],
      "execution_count": 91
    },
    {
      "cell_type": "code",
      "source": "",
      "metadata": {
        "id": "arzDa-0dppfI",
        "trusted": true
      },
      "outputs": [],
      "execution_count": null
    },
    {
      "cell_type": "code",
      "source": "# prompt: Using dataframe df: pie chart\n\nimport altair as alt\n\n# Count the occurrences of each label\n\nlabel_counts = df['label_name'].value_counts().reset_index()\nlabel_counts.columns = ['label_name', 'count']\n\n# Create the pie chart\n\nalt.Chart(label_counts).mark_arc().encode(\n    theta='count',\n    color='label_name',\n    tooltip=['label_name', 'count']\n).properties( title='Distribution of Labels')\n",
      "metadata": {
        "colab": {
          "base_uri": "https://localhost:8080/",
          "height": 403
        },
        "executionInfo": {
          "elapsed": 451,
          "status": "ok",
          "timestamp": 1732291966354,
          "user": {
            "displayName": "Sean Marakalala",
            "userId": "13506204736939427823"
          },
          "user_tz": -120
        },
        "id": "ZhvxrDh1pXKT",
        "outputId": "d8c44705-c066-4b26-c993-82a2a8745444",
        "trusted": true,
        "execution": {
          "iopub.status.busy": "2024-11-26T16:49:30.181994Z",
          "iopub.execute_input": "2024-11-26T16:49:30.182303Z",
          "iopub.status.idle": "2024-11-26T16:49:30.218857Z",
          "shell.execute_reply.started": "2024-11-26T16:49:30.182275Z",
          "shell.execute_reply": "2024-11-26T16:49:30.217934Z"
        }
      },
      "outputs": [
        {
          "execution_count": 92,
          "output_type": "execute_result",
          "data": {
            "text/html": "\n<style>\n  #altair-viz-ca6d608d65b842eea999852af2260551.vega-embed {\n    width: 100%;\n    display: flex;\n  }\n\n  #altair-viz-ca6d608d65b842eea999852af2260551.vega-embed details,\n  #altair-viz-ca6d608d65b842eea999852af2260551.vega-embed details summary {\n    position: relative;\n  }\n</style>\n<div id=\"altair-viz-ca6d608d65b842eea999852af2260551\"></div>\n<script type=\"text/javascript\">\n  var VEGA_DEBUG = (typeof VEGA_DEBUG == \"undefined\") ? {} : VEGA_DEBUG;\n  (function(spec, embedOpt){\n    let outputDiv = document.currentScript.previousElementSibling;\n    if (outputDiv.id !== \"altair-viz-ca6d608d65b842eea999852af2260551\") {\n      outputDiv = document.getElementById(\"altair-viz-ca6d608d65b842eea999852af2260551\");\n    }\n    const paths = {\n      \"vega\": \"https://cdn.jsdelivr.net/npm/vega@5?noext\",\n      \"vega-lib\": \"https://cdn.jsdelivr.net/npm/vega-lib?noext\",\n      \"vega-lite\": \"https://cdn.jsdelivr.net/npm/vega-lite@5.20.1?noext\",\n      \"vega-embed\": \"https://cdn.jsdelivr.net/npm/vega-embed@6?noext\",\n    };\n\n    function maybeLoadScript(lib, version) {\n      var key = `${lib.replace(\"-\", \"\")}_version`;\n      return (VEGA_DEBUG[key] == version) ?\n        Promise.resolve(paths[lib]) :\n        new Promise(function(resolve, reject) {\n          var s = document.createElement('script');\n          document.getElementsByTagName(\"head\")[0].appendChild(s);\n          s.async = true;\n          s.onload = () => {\n            VEGA_DEBUG[key] = version;\n            return resolve(paths[lib]);\n          };\n          s.onerror = () => reject(`Error loading script: ${paths[lib]}`);\n          s.src = paths[lib];\n        });\n    }\n\n    function showError(err) {\n      outputDiv.innerHTML = `<div class=\"error\" style=\"color:red;\">${err}</div>`;\n      throw err;\n    }\n\n    function displayChart(vegaEmbed) {\n      vegaEmbed(outputDiv, spec, embedOpt)\n        .catch(err => showError(`Javascript Error: ${err.message}<br>This usually means there's a typo in your chart specification. See the javascript console for the full traceback.`));\n    }\n\n    if(typeof define === \"function\" && define.amd) {\n      requirejs.config({paths});\n      require([\"vega-embed\"], displayChart, err => showError(`Error loading script: ${err.message}`));\n    } else {\n      maybeLoadScript(\"vega\", \"5\")\n        .then(() => maybeLoadScript(\"vega-lite\", \"5.20.1\"))\n        .then(() => maybeLoadScript(\"vega-embed\", \"6\"))\n        .catch(showError)\n        .then(() => displayChart(vegaEmbed));\n    }\n  })({\"config\": {\"view\": {\"continuousWidth\": 300, \"continuousHeight\": 300}}, \"data\": {\"name\": \"data-ccbf10ccdf454e5e577bf5d465bbd5ed\"}, \"mark\": {\"type\": \"arc\"}, \"encoding\": {\"color\": {\"field\": \"label_name\", \"type\": \"nominal\"}, \"theta\": {\"field\": \"count\", \"type\": \"quantitative\"}, \"tooltip\": [{\"field\": \"label_name\", \"type\": \"nominal\"}, {\"field\": \"count\", \"type\": \"quantitative\"}]}, \"title\": \"Distribution of Labels\", \"$schema\": \"https://vega.github.io/schema/vega-lite/v5.20.1.json\", \"datasets\": {\"data-ccbf10ccdf454e5e577bf5d465bbd5ed\": [{\"label_name\": \"joy\", \"count\": 5362}, {\"label_name\": \"sadness\", \"count\": 4666}, {\"label_name\": \"anger\", \"count\": 2159}, {\"label_name\": \"fear\", \"count\": 1937}, {\"label_name\": \"love\", \"count\": 1304}, {\"label_name\": \"surprise\", \"count\": 572}]}}, {\"mode\": \"vega-lite\"});\n</script>",
            "text/plain": "alt.Chart(...)"
          },
          "metadata": {}
        }
      ],
      "execution_count": 92
    },
    {
      "cell_type": "code",
      "source": "import matplotlib.pyplot as plt",
      "metadata": {
        "executionInfo": {
          "elapsed": 392,
          "status": "ok",
          "timestamp": 1732292241047,
          "user": {
            "displayName": "Sean Marakalala",
            "userId": "13506204736939427823"
          },
          "user_tz": -120
        },
        "id": "L2eyVPSKoZIg",
        "trusted": true,
        "execution": {
          "iopub.status.busy": "2024-11-26T16:49:36.833874Z",
          "iopub.execute_input": "2024-11-26T16:49:36.834218Z",
          "iopub.status.idle": "2024-11-26T16:49:36.839177Z",
          "shell.execute_reply.started": "2024-11-26T16:49:36.834187Z",
          "shell.execute_reply": "2024-11-26T16:49:36.838308Z"
        }
      },
      "outputs": [],
      "execution_count": 93
    },
    {
      "cell_type": "code",
      "source": "#create a boxplot\n\ndf['Words Per Tweet'] = df['text'].str.split().apply(len)\ndf.boxplot(\"Words Per Tweet\", by='label_name')",
      "metadata": {
        "colab": {
          "base_uri": "https://localhost:8080/",
          "height": 495
        },
        "executionInfo": {
          "elapsed": 1390,
          "status": "ok",
          "timestamp": 1732292244741,
          "user": {
            "displayName": "Sean Marakalala",
            "userId": "13506204736939427823"
          },
          "user_tz": -120
        },
        "id": "isxiUs-pp7V8",
        "outputId": "2509d49a-b8b2-42c9-aa07-ddcfeb4c6114",
        "trusted": true,
        "execution": {
          "iopub.status.busy": "2024-11-26T16:49:38.665887Z",
          "iopub.execute_input": "2024-11-26T16:49:38.666511Z",
          "iopub.status.idle": "2024-11-26T16:49:39.002308Z",
          "shell.execute_reply.started": "2024-11-26T16:49:38.666478Z",
          "shell.execute_reply": "2024-11-26T16:49:39.001558Z"
        }
      },
      "outputs": [
        {
          "execution_count": 94,
          "output_type": "execute_result",
          "data": {
            "text/plain": "<Axes: title={'center': 'Words Per Tweet'}, xlabel='label_name'>"
          },
          "metadata": {}
        },
        {
          "output_type": "display_data",
          "data": {
            "text/plain": "<Figure size 640x480 with 1 Axes>",
            "image/png": "[encoded data removed]"
          },
          "metadata": {}
        }
      ],
      "execution_count": 94
    },
    {
      "cell_type": "markdown",
      "source": "# TEXT TO TOKENS CONVERSION",
      "metadata": {}
    },
    {
      "cell_type": "code",
      "source": "# Import the AutoTokenizer class from the Hugging Face transformers library\nfrom transformers import AutoTokenizer\n\n# Specify the model checkpoint name to be used\nmodel_ckpt = \"distilbert-base-uncased\"\n\n# Load the tokenizer associated with the specified model checkpoint\ntokenizer = AutoTokenizer.from_pretrained(model_ckpt)",
      "metadata": {
        "colab": {
          "base_uri": "https://localhost:8080/",
          "height": 214
        },
        "executionInfo": {
          "elapsed": 7331,
          "status": "ok",
          "timestamp": 1732292305691,
          "user": {
            "displayName": "Sean Marakalala",
            "userId": "13506204736939427823"
          },
          "user_tz": -120
        },
        "id": "4Mq15_QWqDoc",
        "outputId": "7858fb41-0353-414e-a68d-d954358610b0",
        "trusted": true,
        "execution": {
          "iopub.status.busy": "2024-11-26T16:49:42.023727Z",
          "iopub.execute_input": "2024-11-26T16:49:42.024413Z",
          "iopub.status.idle": "2024-11-26T16:49:42.152594Z",
          "shell.execute_reply.started": "2024-11-26T16:49:42.024384Z",
          "shell.execute_reply": "2024-11-26T16:49:42.151899Z"
        }
      },
      "outputs": [],
      "execution_count": 95
    },
    {
      "cell_type": "code",
      "source": "# sample text to be tokenized\ntext = \"I love Artificial Intelligence!. Tokenization is awesome\"\n\n# Use the tokenizer to tokenize the input text\nencoded_text = tokenizer(text)\n\nprint(encoded_text)",
      "metadata": {
        "colab": {
          "base_uri": "https://localhost:8080/"
        },
        "executionInfo": {
          "elapsed": 392,
          "status": "ok",
          "timestamp": 1732292334534,
          "user": {
            "displayName": "Sean Marakalala",
            "userId": "13506204736939427823"
          },
          "user_tz": -120
        },
        "id": "ItiSaIUIqER_",
        "outputId": "45e1c1aa-e4e7-4567-a0b5-0c9b7de71f1e",
        "trusted": true,
        "execution": {
          "iopub.status.busy": "2024-11-26T16:49:43.890554Z",
          "iopub.execute_input": "2024-11-26T16:49:43.890937Z",
          "iopub.status.idle": "2024-11-26T16:49:43.898349Z",
          "shell.execute_reply.started": "2024-11-26T16:49:43.890908Z",
          "shell.execute_reply": "2024-11-26T16:49:43.897389Z"
        }
      },
      "outputs": [
        {
          "name": "stdout",
          "text": "{'input_ids': [101, 1045, 2293, 7976, 4454, 999, 1012, 19204, 3989, 2003, 12476, 102], 'attention_mask': [1, 1, 1, 1, 1, 1, 1, 1, 1, 1, 1, 1]}\n",
          "output_type": "stream"
        }
      ],
      "execution_count": 96
    },
    {
      "cell_type": "code",
      "source": "# Convert the tokenized IDs back to human-readable tokens\ntokens = tokenizer.convert_ids_to_tokens(encoded_text.input_ids)\n\nprint(tokens)",
      "metadata": {
        "colab": {
          "base_uri": "https://localhost:8080/"
        },
        "executionInfo": {
          "elapsed": 344,
          "status": "ok",
          "timestamp": 1732292340230,
          "user": {
            "displayName": "Sean Marakalala",
            "userId": "13506204736939427823"
          },
          "user_tz": -120
        },
        "id": "k8MLukHVqH-e",
        "outputId": "dfd124b9-b692-41f8-d8d6-64e22197e76b",
        "trusted": true,
        "execution": {
          "iopub.status.busy": "2024-11-26T16:49:46.601520Z",
          "iopub.execute_input": "2024-11-26T16:49:46.602390Z",
          "iopub.status.idle": "2024-11-26T16:49:46.608526Z",
          "shell.execute_reply.started": "2024-11-26T16:49:46.602354Z",
          "shell.execute_reply": "2024-11-26T16:49:46.607527Z"
        }
      },
      "outputs": [
        {
          "name": "stdout",
          "text": "['[CLS]', 'i', 'love', 'artificial', 'intelligence', '!', '.', 'token', '##ization', 'is', 'awesome', '[SEP]']\n",
          "output_type": "stream"
        }
      ],
      "execution_count": 97
    },
    {
      "cell_type": "code",
      "source": "# Retrieve the vocabulary size and the maximum sequence length for the tokenizer\ntokenizer.vocab_size, tokenizer.model_max_length",
      "metadata": {
        "colab": {
          "base_uri": "https://localhost:8080/"
        },
        "executionInfo": {
          "elapsed": 372,
          "status": "ok",
          "timestamp": 1732292352748,
          "user": {
            "displayName": "Sean Marakalala",
            "userId": "13506204736939427823"
          },
          "user_tz": -120
        },
        "id": "2evHlyCgqK6g",
        "outputId": "ad751fb3-3a4d-4071-9d07-1051bf2ecb45",
        "trusted": true,
        "execution": {
          "iopub.status.busy": "2024-11-26T16:49:50.239667Z",
          "iopub.execute_input": "2024-11-26T16:49:50.240342Z",
          "iopub.status.idle": "2024-11-26T16:49:50.247041Z",
          "shell.execute_reply.started": "2024-11-26T16:49:50.240307Z",
          "shell.execute_reply": "2024-11-26T16:49:50.246296Z"
        }
      },
      "outputs": [
        {
          "execution_count": 98,
          "output_type": "execute_result",
          "data": {
            "text/plain": "(30522, 512)"
          },
          "metadata": {}
        }
      ],
      "execution_count": 98
    },
    {
      "cell_type": "code",
      "source": "",
      "metadata": {
        "id": "91wU2wubqPD4",
        "trusted": true
      },
      "outputs": [],
      "execution_count": null
    },
    {
      "cell_type": "markdown",
      "source": "# TOKEIZATION OF EMOTION DATA",
      "metadata": {}
    },
    {
      "cell_type": "code",
      "source": "emotion.reset_format()",
      "metadata": {
        "executionInfo": {
          "elapsed": 391,
          "status": "ok",
          "timestamp": 1732292356896,
          "user": {
            "displayName": "Sean Marakalala",
            "userId": "13506204736939427823"
          },
          "user_tz": -120
        },
        "id": "6rRIYbeTqPaj",
        "trusted": true,
        "execution": {
          "iopub.status.busy": "2024-11-26T16:49:53.229532Z",
          "iopub.execute_input": "2024-11-26T16:49:53.229925Z",
          "iopub.status.idle": "2024-11-26T16:49:53.235612Z",
          "shell.execute_reply.started": "2024-11-26T16:49:53.229893Z",
          "shell.execute_reply": "2024-11-26T16:49:53.234734Z"
        }
      },
      "outputs": [],
      "execution_count": 99
    },
    {
      "cell_type": "code",
      "source": "# Define a function to tokenize a batch of text samples\ndef tokenize(batch):\n  temp =tokenizer(batch['text'], padding=True, truncation=True)\n  return temp\nprint(tokenize(emotion[\"train\"][:5]))",
      "metadata": {
        "colab": {
          "base_uri": "https://localhost:8080/"
        },
        "executionInfo": {
          "elapsed": 605,
          "status": "ok",
          "timestamp": 1732292358865,
          "user": {
            "displayName": "Sean Marakalala",
            "userId": "13506204736939427823"
          },
          "user_tz": -120
        },
        "id": "kFP1poLzqT3j",
        "outputId": "1d3190c2-f0df-481b-b6ff-25bbef719c77",
        "trusted": true,
        "execution": {
          "iopub.status.busy": "2024-11-26T16:49:55.580045Z",
          "iopub.execute_input": "2024-11-26T16:49:55.580732Z",
          "iopub.status.idle": "2024-11-26T16:49:55.589016Z",
          "shell.execute_reply.started": "2024-11-26T16:49:55.580699Z",
          "shell.execute_reply": "2024-11-26T16:49:55.588027Z"
        }
      },
      "outputs": [
        {
          "name": "stdout",
          "text": "{'input_ids': [[101, 1045, 2134, 2102, 2514, 26608, 102, 0, 0, 0, 0, 0, 0, 0, 0, 0, 0, 0, 0, 0, 0, 0, 0], [101, 1045, 2064, 2175, 2013, 3110, 2061, 20625, 2000, 2061, 9636, 17772, 2074, 2013, 2108, 2105, 2619, 2040, 14977, 1998, 2003, 8300, 102], [101, 10047, 9775, 1037, 3371, 2000, 2695, 1045, 2514, 20505, 3308, 102, 0, 0, 0, 0, 0, 0, 0, 0, 0, 0, 0], [101, 1045, 2572, 2412, 3110, 16839, 9080, 12863, 2055, 1996, 13788, 1045, 2097, 2113, 2008, 2009, 2003, 2145, 2006, 1996, 3200, 102, 0], [101, 1045, 2572, 3110, 24665, 7140, 11714, 102, 0, 0, 0, 0, 0, 0, 0, 0, 0, 0, 0, 0, 0, 0, 0]], 'attention_mask': [[1, 1, 1, 1, 1, 1, 1, 0, 0, 0, 0, 0, 0, 0, 0, 0, 0, 0, 0, 0, 0, 0, 0], [1, 1, 1, 1, 1, 1, 1, 1, 1, 1, 1, 1, 1, 1, 1, 1, 1, 1, 1, 1, 1, 1, 1], [1, 1, 1, 1, 1, 1, 1, 1, 1, 1, 1, 1, 0, 0, 0, 0, 0, 0, 0, 0, 0, 0, 0], [1, 1, 1, 1, 1, 1, 1, 1, 1, 1, 1, 1, 1, 1, 1, 1, 1, 1, 1, 1, 1, 1, 0], [1, 1, 1, 1, 1, 1, 1, 1, 0, 0, 0, 0, 0, 0, 0, 0, 0, 0, 0, 0, 0, 0, 0]]}\n",
          "output_type": "stream"
        }
      ],
      "execution_count": 100
    },
    {
      "cell_type": "code",
      "source": "emotions_encoded = emotion.map(tokenize, batched=True, batch_size=None)",
      "metadata": {
        "colab": {
          "base_uri": "https://localhost:8080/",
          "height": 113
        },
        "executionInfo": {
          "elapsed": 3757,
          "status": "ok",
          "timestamp": 1732292366005,
          "user": {
            "displayName": "Sean Marakalala",
            "userId": "13506204736939427823"
          },
          "user_tz": -120
        },
        "id": "0S4n5Dr2qWqS",
        "outputId": "ff2cc806-ea16-458a-b292-238725e7e3f6",
        "trusted": true,
        "execution": {
          "iopub.status.busy": "2024-11-26T16:49:58.197641Z",
          "iopub.execute_input": "2024-11-26T16:49:58.198014Z",
          "iopub.status.idle": "2024-11-26T16:49:58.226014Z",
          "shell.execute_reply.started": "2024-11-26T16:49:58.197982Z",
          "shell.execute_reply": "2024-11-26T16:49:58.225406Z"
        }
      },
      "outputs": [],
      "execution_count": 101
    },
    {
      "cell_type": "code",
      "source": "emotions_encoded",
      "metadata": {
        "colab": {
          "base_uri": "https://localhost:8080/"
        },
        "executionInfo": {
          "elapsed": 361,
          "status": "ok",
          "timestamp": 1732292369360,
          "user": {
            "displayName": "Sean Marakalala",
            "userId": "13506204736939427823"
          },
          "user_tz": -120
        },
        "id": "N3Mq16u2qY6W",
        "outputId": "84d5ae81-2889-43da-f4e9-153b9e80f0dc",
        "trusted": true,
        "execution": {
          "iopub.status.busy": "2024-11-26T16:50:00.725964Z",
          "iopub.execute_input": "2024-11-26T16:50:00.726812Z",
          "iopub.status.idle": "2024-11-26T16:50:00.733124Z",
          "shell.execute_reply.started": "2024-11-26T16:50:00.726772Z",
          "shell.execute_reply": "2024-11-26T16:50:00.732287Z"
        }
      },
      "outputs": [
        {
          "execution_count": 102,
          "output_type": "execute_result",
          "data": {
            "text/plain": "DatasetDict({\n    train: Dataset({\n        features: ['text', 'label', 'input_ids', 'attention_mask'],\n        num_rows: 16000\n    })\n    validation: Dataset({\n        features: ['text', 'label', 'input_ids', 'attention_mask'],\n        num_rows: 2000\n    })\n    test: Dataset({\n        features: ['text', 'label', 'input_ids', 'attention_mask'],\n        num_rows: 2000\n    })\n})"
          },
          "metadata": {}
        }
      ],
      "execution_count": 102
    },
    {
      "cell_type": "markdown",
      "source": "# MODEL BUILDING",
      "metadata": {}
    },
    {
      "cell_type": "code",
      "source": "# Tokenize the input text and return the result as PyTorch tensors\ninputs = tokenizer(text, return_tensors='pt')\ninputs",
      "metadata": {
        "colab": {
          "base_uri": "https://localhost:8080/"
        },
        "executionInfo": {
          "elapsed": 362,
          "status": "ok",
          "timestamp": 1732292479197,
          "user": {
            "displayName": "Sean Marakalala",
            "userId": "13506204736939427823"
          },
          "user_tz": -120
        },
        "id": "kow-695FrJTn",
        "outputId": "f7cea0ba-8bd6-4cb3-bbc9-c2136b834a21",
        "trusted": true,
        "execution": {
          "iopub.status.busy": "2024-11-26T16:50:03.256178Z",
          "iopub.execute_input": "2024-11-26T16:50:03.257054Z",
          "iopub.status.idle": "2024-11-26T16:50:03.265043Z",
          "shell.execute_reply.started": "2024-11-26T16:50:03.257018Z",
          "shell.execute_reply": "2024-11-26T16:50:03.264210Z"
        }
      },
      "outputs": [
        {
          "execution_count": 103,
          "output_type": "execute_result",
          "data": {
            "text/plain": "{'input_ids': tensor([[  101,  1045,  2293,  7976,  4454,   999,  1012, 19204,  3989,  2003,\n         12476,   102]]), 'attention_mask': tensor([[1, 1, 1, 1, 1, 1, 1, 1, 1, 1, 1, 1]])}"
          },
          "metadata": {}
        }
      ],
      "execution_count": 103
    },
    {
      "cell_type": "code",
      "source": "from transformers import AutoModel\nimport torch\n\n# Load the pre-trained DistilBERT model\nmodel = AutoModel.from_pretrained(model_ckpt)",
      "metadata": {
        "colab": {
          "base_uri": "https://localhost:8080/",
          "height": 49
        },
        "executionInfo": {
          "elapsed": 22993,
          "status": "ok",
          "timestamp": 1732292464233,
          "user": {
            "displayName": "Sean Marakalala",
            "userId": "13506204736939427823"
          },
          "user_tz": -120
        },
        "id": "rCgC4yaYq-vi",
        "outputId": "b2de5c51-9a25-45f4-b87e-140f7463c916",
        "trusted": true,
        "execution": {
          "iopub.status.busy": "2024-11-26T16:50:05.307785Z",
          "iopub.execute_input": "2024-11-26T16:50:05.308124Z",
          "iopub.status.idle": "2024-11-26T16:50:05.421056Z",
          "shell.execute_reply.started": "2024-11-26T16:50:05.308093Z",
          "shell.execute_reply": "2024-11-26T16:50:05.420397Z"
        }
      },
      "outputs": [],
      "execution_count": 104
    },
    {
      "cell_type": "code",
      "source": "# Perform inference without tracking gradients (no gradient updates for efficiency)\nwith torch.no_grad():\n\n  outputs = model(**inputs)# Pass the tokenized inputs into the model\n\n# Extract the last hidden states (output of the final transformer layer)\nlast_hidden_states = outputs.last_hidden_state",
      "metadata": {
        "executionInfo": {
          "elapsed": 681,
          "status": "ok",
          "timestamp": 1732292484021,
          "user": {
            "displayName": "Sean Marakalala",
            "userId": "13506204736939427823"
          },
          "user_tz": -120
        },
        "id": "KGYyQsYirIg5",
        "trusted": true,
        "execution": {
          "iopub.status.busy": "2024-11-26T16:50:07.251816Z",
          "iopub.execute_input": "2024-11-26T16:50:07.252167Z",
          "iopub.status.idle": "2024-11-26T16:50:07.297509Z",
          "shell.execute_reply.started": "2024-11-26T16:50:07.252137Z",
          "shell.execute_reply": "2024-11-26T16:50:07.296549Z"
        }
      },
      "outputs": [],
      "execution_count": 105
    },
    {
      "cell_type": "code",
      "source": "last_hidden_states.shape",
      "metadata": {
        "colab": {
          "base_uri": "https://localhost:8080/"
        },
        "executionInfo": {
          "elapsed": 348,
          "status": "ok",
          "timestamp": 1732292494658,
          "user": {
            "displayName": "Sean Marakalala",
            "userId": "13506204736939427823"
          },
          "user_tz": -120
        },
        "id": "5WKzkYNgrM6A",
        "outputId": "75a4bdcc-64c0-4075-8c81-c3dbb0fd7ec5",
        "trusted": true,
        "execution": {
          "iopub.status.busy": "2024-11-26T16:50:09.409728Z",
          "iopub.execute_input": "2024-11-26T16:50:09.410066Z",
          "iopub.status.idle": "2024-11-26T16:50:09.416391Z",
          "shell.execute_reply.started": "2024-11-26T16:50:09.410035Z",
          "shell.execute_reply": "2024-11-26T16:50:09.415636Z"
        }
      },
      "outputs": [
        {
          "execution_count": 106,
          "output_type": "execute_result",
          "data": {
            "text/plain": "torch.Size([1, 12, 768])"
          },
          "metadata": {}
        }
      ],
      "execution_count": 106
    },
    {
      "cell_type": "markdown",
      "source": "# FINE-TUNING TRANSFORMATION",
      "metadata": {}
    },
    {
      "cell_type": "code",
      "source": "from transformers import AutoModelForSequenceClassification\n\nnum_labels = len(classes)\ndevice = torch.device(\"cuda\" if torch.cuda.is_available() else \"cpu\")\nmodel = AutoModelForSequenceClassification.from_pretrained(model_ckpt, num_labels = num_labels).to(device)",
      "metadata": {
        "colab": {
          "base_uri": "https://localhost:8080/"
        },
        "executionInfo": {
          "elapsed": 362,
          "status": "ok",
          "timestamp": 1732292530175,
          "user": {
            "displayName": "Sean Marakalala",
            "userId": "13506204736939427823"
          },
          "user_tz": -120
        },
        "id": "lMnmVxHQreoJ",
        "outputId": "ec3f5976-11c6-4cb6-f156-3579a18207e5",
        "trusted": true,
        "execution": {
          "iopub.status.busy": "2024-11-26T16:50:11.611952Z",
          "iopub.execute_input": "2024-11-26T16:50:11.612808Z",
          "iopub.status.idle": "2024-11-26T16:50:11.816854Z",
          "shell.execute_reply.started": "2024-11-26T16:50:11.612773Z",
          "shell.execute_reply": "2024-11-26T16:50:11.816006Z"
        }
      },
      "outputs": [
        {
          "name": "stderr",
          "text": "Some weights of DistilBertForSequenceClassification were not initialized from the model checkpoint at distilbert-base-uncased and are newly initialized: ['classifier.bias', 'classifier.weight', 'pre_classifier.bias', 'pre_classifier.weight']\nYou should probably TRAIN this model on a down-stream task to be able to use it for predictions and inference.\n",
          "output_type": "stream"
        }
      ],
      "execution_count": 107
    },
    {
      "cell_type": "code",
      "source": "from transformers import TrainingArguments\nfrom transformers import TrainerCallback\nbatch_size = 64\n\nmodel_name = \"distilbert-finetuned-emotion\"\n\nclass MetricLoggerCallback(TrainerCallback):\n    def __init__(self):\n        self.logs = []\n\n    def on_evaluate(self, args, state, control, metrics, **kwargs):\n        # Capture metrics at each evaluation step\n        self.logs.append(metrics)\n\n# Initialize your custom callback\nmetric_logger = MetricLoggerCallback()\n\ntraining_args = TrainingArguments(  output_dir=model_name,\n                                    num_train_epochs=3,\n                                    learning_rate=2e-5,\n                                    per_device_train_batch_size=batch_size,\n                                    per_device_eval_batch_size=batch_size,\n                                    weight_decay=0.01,\n                                    evaluation_strategy=\"steps\",  # Evaluate after each epoch\n                                    logging_dir='./logs',  # Directory to store logs\n                                    logging_steps=10,  # Log metrics every 10 steps\n                                    eval_steps=50,  # Evaluate every 50 steps\n                                    save_steps=500,\n                                    disable_tqdm=False)",
      "metadata": {
        "colab": {
          "base_uri": "https://localhost:8080/"
        },
        "executionInfo": {
          "elapsed": 4250,
          "status": "ok",
          "timestamp": 1732292822125,
          "user": {
            "displayName": "Sean Marakalala",
            "userId": "13506204736939427823"
          },
          "user_tz": -120
        },
        "id": "f4-zff2-rrM3",
        "outputId": "5587d30b-c0a9-4a82-bbe5-78c4921dee0c",
        "trusted": true,
        "execution": {
          "iopub.status.busy": "2024-11-26T16:50:14.352499Z",
          "iopub.execute_input": "2024-11-26T16:50:14.352993Z",
          "iopub.status.idle": "2024-11-26T16:50:14.392269Z",
          "shell.execute_reply.started": "2024-11-26T16:50:14.352959Z",
          "shell.execute_reply": "2024-11-26T16:50:14.391444Z"
        }
      },
      "outputs": [
        {
          "name": "stderr",
          "text": "/opt/conda/lib/python3.10/site-packages/transformers/training_args.py:1568: FutureWarning: `evaluation_strategy` is deprecated and will be removed in version 4.46 of \ud83e\udd17 Transformers. Use `eval_strategy` instead\n  warnings.warn(\n",
          "output_type": "stream"
        }
      ],
      "execution_count": 108
    },
    {
      "cell_type": "code",
      "source": "from sklearn.metrics import accuracy_score, f1_score\n\ndef compute_metrics(pred):\n    labels = pred.label_ids\n    preds = pred.predictions.argmax(-1)\n    f1 = f1_score(labels, preds, average='weighted')\n    acc = accuracy_score(labels, preds)\n    return {\"eval_accuracy\": acc, \"eval_f1\": f1}\n",
      "metadata": {
        "executionInfo": {
          "elapsed": 377,
          "status": "ok",
          "timestamp": 1732292826417,
          "user": {
            "displayName": "Sean Marakalala",
            "userId": "13506204736939427823"
          },
          "user_tz": -120
        },
        "id": "9hy58dkTryTw",
        "trusted": true,
        "execution": {
          "iopub.status.busy": "2024-11-26T16:50:19.647830Z",
          "iopub.execute_input": "2024-11-26T16:50:19.648650Z",
          "iopub.status.idle": "2024-11-26T16:50:19.654352Z",
          "shell.execute_reply.started": "2024-11-26T16:50:19.648602Z",
          "shell.execute_reply": "2024-11-26T16:50:19.653477Z"
        }
      },
      "outputs": [],
      "execution_count": 109
    },
    {
      "cell_type": "code",
      "source": "from transformers import Trainer\nimport pandas as pd\nfrom sklearn.utils.class_weight import compute_class_weight\nimport numpy as np\n\n\n\ntrainer = Trainer(model=model, \n                  args=training_args,\n                  compute_metrics=compute_metrics,\n                  train_dataset=emotions_encoded['train'],\n                  eval_dataset=emotions_encoded['validation'],\n                  tokenizer=tokenizer,\n                  callbacks=[metric_logger],\n                 )\n\n# Train and capture metrics\ntrain_output = trainer.train()\n\n# The trainer.log_history contains all the training and evaluation logs\nlog_history = trainer.state.log_history\n\n# Save the fine-tuned model and tokenizer\nmodel.save_pretrained(\"/kaggle/working/distilbert-finetuned-emotion\")\ntokenizer.save_pretrained(\"/kaggle/working/distilbert-finetuned-emotion\")\n",
      "metadata": {
        "colab": {
          "base_uri": "https://localhost:8080/"
        },
        "executionInfo": {
          "elapsed": 3192,
          "status": "ok",
          "timestamp": 1732292832559,
          "user": {
            "displayName": "Sean Marakalala",
            "userId": "13506204736939427823"
          },
          "user_tz": -120
        },
        "id": "Rg4pPOEYr1p9",
        "outputId": "c32b0253-2b70-40c8-fee8-12562d458bc1",
        "trusted": true,
        "execution": {
          "iopub.status.busy": "2024-11-26T16:50:23.558429Z",
          "iopub.execute_input": "2024-11-26T16:50:23.559244Z",
          "iopub.status.idle": "2024-11-26T16:54:24.755204Z",
          "shell.execute_reply.started": "2024-11-26T16:50:23.559208Z",
          "shell.execute_reply": "2024-11-26T16:54:24.754218Z"
        }
      },
      "outputs": [
        {
          "name": "stderr",
          "text": "/tmp/ipykernel_30/1649244880.py:8: FutureWarning: `tokenizer` is deprecated and will be removed in version 5.0.0 for `Trainer.__init__`. Use `processing_class` instead.\n  trainer = Trainer(model=model,\n/opt/conda/lib/python3.10/site-packages/torch/nn/parallel/parallel_apply.py:79: FutureWarning: `torch.cuda.amp.autocast(args...)` is deprecated. Please use `torch.amp.autocast('cuda', args...)` instead.\n  with torch.cuda.device(device), torch.cuda.stream(stream), autocast(enabled=autocast_enabled):\n/opt/conda/lib/python3.10/site-packages/torch/nn/parallel/_functions.py:68: UserWarning: Was asked to gather along dimension 0, but all input tensors were scalars; will instead unsqueeze and return a vector.\n  warnings.warn('Was asked to gather along dimension 0, but all '\n",
          "output_type": "stream"
        },
        {
          "output_type": "display_data",
          "data": {
            "text/plain": "<IPython.core.display.HTML object>",
            "text/html": "\n    <div>\n      \n      <progress value='375' max='375' style='width:300px; height:20px; vertical-align: middle;'></progress>\n      [375/375 03:59, Epoch 3/3]\n    </div>\n    <table border=\"1\" class=\"dataframe\">\n  <thead>\n <tr style=\"text-align: left;\">\n      <th>Step</th>\n      <th>Training Loss</th>\n      <th>Validation Loss</th>\n      <th>Accuracy</th>\n      <th>F1</th>\n    </tr>\n  </thead>\n  <tbody>\n    <tr>\n      <td>50</td>\n      <td>1.235100</td>\n      <td>1.126178</td>\n      <td>0.580500</td>\n      <td>0.463158</td>\n    </tr>\n    <tr>\n      <td>100</td>\n      <td>0.699500</td>\n      <td>0.613193</td>\n      <td>0.819500</td>\n      <td>0.800543</td>\n    </tr>\n    <tr>\n      <td>150</td>\n      <td>0.383000</td>\n      <td>0.397127</td>\n      <td>0.878500</td>\n      <td>0.871704</td>\n    </tr>\n    <tr>\n      <td>200</td>\n      <td>0.272600</td>\n      <td>0.296404</td>\n      <td>0.908000</td>\n      <td>0.907074</td>\n    </tr>\n    <tr>\n      <td>250</td>\n      <td>0.268700</td>\n      <td>0.245938</td>\n      <td>0.921500</td>\n      <td>0.921557</td>\n    </tr>\n    <tr>\n      <td>300</td>\n      <td>0.218300</td>\n      <td>0.232283</td>\n      <td>0.926000</td>\n      <td>0.926281</td>\n    </tr>\n    <tr>\n      <td>350</td>\n      <td>0.179800</td>\n      <td>0.218914</td>\n      <td>0.928000</td>\n      <td>0.927772</td>\n    </tr>\n  </tbody>\n</table><p>"
          },
          "metadata": {}
        },
        {
          "name": "stderr",
          "text": "/opt/conda/lib/python3.10/site-packages/torch/nn/parallel/parallel_apply.py:79: FutureWarning: `torch.cuda.amp.autocast(args...)` is deprecated. Please use `torch.amp.autocast('cuda', args...)` instead.\n  with torch.cuda.device(device), torch.cuda.stream(stream), autocast(enabled=autocast_enabled):\n/opt/conda/lib/python3.10/site-packages/torch/nn/parallel/_functions.py:68: UserWarning: Was asked to gather along dimension 0, but all input tensors were scalars; will instead unsqueeze and return a vector.\n  warnings.warn('Was asked to gather along dimension 0, but all '\n/opt/conda/lib/python3.10/site-packages/torch/nn/parallel/parallel_apply.py:79: FutureWarning: `torch.cuda.amp.autocast(args...)` is deprecated. Please use `torch.amp.autocast('cuda', args...)` instead.\n  with torch.cuda.device(device), torch.cuda.stream(stream), autocast(enabled=autocast_enabled):\n/opt/conda/lib/python3.10/site-packages/torch/nn/parallel/_functions.py:68: UserWarning: Was asked to gather along dimension 0, but all input tensors were scalars; will instead unsqueeze and return a vector.\n  warnings.warn('Was asked to gather along dimension 0, but all '\n/opt/conda/lib/python3.10/site-packages/torch/nn/parallel/parallel_apply.py:79: FutureWarning: `torch.cuda.amp.autocast(args...)` is deprecated. Please use `torch.amp.autocast('cuda', args...)` instead.\n  with torch.cuda.device(device), torch.cuda.stream(stream), autocast(enabled=autocast_enabled):\n/opt/conda/lib/python3.10/site-packages/torch/nn/parallel/_functions.py:68: UserWarning: Was asked to gather along dimension 0, but all input tensors were scalars; will instead unsqueeze and return a vector.\n  warnings.warn('Was asked to gather along dimension 0, but all '\n/opt/conda/lib/python3.10/site-packages/torch/nn/parallel/parallel_apply.py:79: FutureWarning: `torch.cuda.amp.autocast(args...)` is deprecated. Please use `torch.amp.autocast('cuda', args...)` instead.\n  with torch.cuda.device(device), torch.cuda.stream(stream), autocast(enabled=autocast_enabled):\n/opt/conda/lib/python3.10/site-packages/torch/nn/parallel/_functions.py:68: UserWarning: Was asked to gather along dimension 0, but all input tensors were scalars; will instead unsqueeze and return a vector.\n  warnings.warn('Was asked to gather along dimension 0, but all '\n/opt/conda/lib/python3.10/site-packages/torch/nn/parallel/parallel_apply.py:79: FutureWarning: `torch.cuda.amp.autocast(args...)` is deprecated. Please use `torch.amp.autocast('cuda', args...)` instead.\n  with torch.cuda.device(device), torch.cuda.stream(stream), autocast(enabled=autocast_enabled):\n/opt/conda/lib/python3.10/site-packages/torch/nn/parallel/_functions.py:68: UserWarning: Was asked to gather along dimension 0, but all input tensors were scalars; will instead unsqueeze and return a vector.\n  warnings.warn('Was asked to gather along dimension 0, but all '\n/opt/conda/lib/python3.10/site-packages/torch/nn/parallel/parallel_apply.py:79: FutureWarning: `torch.cuda.amp.autocast(args...)` is deprecated. Please use `torch.amp.autocast('cuda', args...)` instead.\n  with torch.cuda.device(device), torch.cuda.stream(stream), autocast(enabled=autocast_enabled):\n/opt/conda/lib/python3.10/site-packages/torch/nn/parallel/_functions.py:68: UserWarning: Was asked to gather along dimension 0, but all input tensors were scalars; will instead unsqueeze and return a vector.\n  warnings.warn('Was asked to gather along dimension 0, but all '\n/opt/conda/lib/python3.10/site-packages/torch/nn/parallel/parallel_apply.py:79: FutureWarning: `torch.cuda.amp.autocast(args...)` is deprecated. Please use `torch.amp.autocast('cuda', args...)` instead.\n  with torch.cuda.device(device), torch.cuda.stream(stream), autocast(enabled=autocast_enabled):\n/opt/conda/lib/python3.10/site-packages/torch/nn/parallel/_functions.py:68: UserWarning: Was asked to gather along dimension 0, but all input tensors were scalars; will instead unsqueeze and return a vector.\n  warnings.warn('Was asked to gather along dimension 0, but all '\n",
          "output_type": "stream"
        },
        {
          "execution_count": 110,
          "output_type": "execute_result",
          "data": {
            "text/plain": "('/kaggle/working/distilbert-finetuned-emotion/tokenizer_config.json',\n '/kaggle/working/distilbert-finetuned-emotion/special_tokens_map.json',\n '/kaggle/working/distilbert-finetuned-emotion/vocab.txt',\n '/kaggle/working/distilbert-finetuned-emotion/added_tokens.json',\n '/kaggle/working/distilbert-finetuned-emotion/tokenizer.json')"
          },
          "metadata": {}
        }
      ],
      "execution_count": 110
    },
    {
      "cell_type": "markdown",
      "source": "# MODEL EVALUATION",
      "metadata": {}
    },
    {
      "cell_type": "code",
      "source": "import pandas as pd\n\n# Convert log history to a DataFrame\nlog_history = pd.DataFrame(trainer.state.log_history)\n\n",
      "metadata": {
        "trusted": true,
        "execution": {
          "iopub.status.busy": "2024-11-26T16:54:38.961962Z",
          "iopub.execute_input": "2024-11-26T16:54:38.962840Z",
          "iopub.status.idle": "2024-11-26T16:54:38.969103Z",
          "shell.execute_reply.started": "2024-11-26T16:54:38.962807Z",
          "shell.execute_reply": "2024-11-26T16:54:38.968088Z"
        }
      },
      "outputs": [],
      "execution_count": 112
    },
    {
      "cell_type": "code",
      "source": "# Filter logs to keep only evaluation metrics\neval_logs = log_history[log_history[\"eval_loss\"].notnull()]  # Keeps rows where 'eval_loss' is logged\n\n# Use the correct key based on the log inspection\nif \"eval_accuracy\" in eval_logs.columns:\n    eval_logs[\"validation_accuracy\"] = eval_logs[\"eval_accuracy\"]\nelse:\n    print(\"Evaluation accuracy not found. Check compute_metrics output.\")\n",
      "metadata": {
        "trusted": true,
        "execution": {
          "iopub.status.busy": "2024-11-26T16:54:41.136130Z",
          "iopub.execute_input": "2024-11-26T16:54:41.136503Z",
          "iopub.status.idle": "2024-11-26T16:54:41.145175Z",
          "shell.execute_reply.started": "2024-11-26T16:54:41.136468Z",
          "shell.execute_reply": "2024-11-26T16:54:41.144098Z"
        }
      },
      "outputs": [
        {
          "name": "stderr",
          "text": "/tmp/ipykernel_30/3496239930.py:6: SettingWithCopyWarning: \nA value is trying to be set on a copy of a slice from a DataFrame.\nTry using .loc[row_indexer,col_indexer] = value instead\n\nSee the caveats in the documentation: https://pandas.pydata.org/pandas-docs/stable/user_guide/indexing.html#returning-a-view-versus-a-copy\n  eval_logs[\"validation_accuracy\"] = eval_logs[\"eval_accuracy\"]\n",
          "output_type": "stream"
        }
      ],
      "execution_count": 113
    },
    {
      "cell_type": "code",
      "source": "import pandas as pd\nlogs = metric_logger.logs\n# Extract the metrics from the logs\nmetrics_df = pd.DataFrame(metric_logger.logs)",
      "metadata": {
        "trusted": true,
        "execution": {
          "iopub.status.busy": "2024-11-26T16:54:44.257559Z",
          "iopub.execute_input": "2024-11-26T16:54:44.257922Z",
          "iopub.status.idle": "2024-11-26T16:54:44.264044Z",
          "shell.execute_reply.started": "2024-11-26T16:54:44.257892Z",
          "shell.execute_reply": "2024-11-26T16:54:44.263269Z"
        }
      },
      "outputs": [],
      "execution_count": 114
    },
    {
      "cell_type": "code",
      "source": "import matplotlib.pyplot as plt\n\n\nsteps_per_epoch = 50\n\n# Adjust the x-axis index to represent actual steps\nmetrics_df['steps'] = metrics_df.index * steps_per_epoch  # Convert index to steps\n\n# Plotting Evaluation Metrics: Loss, Accuracy, and F1 Score\nplt.figure(figsize=(12, 6))\n\n\n# Plotting eval_accuracy\nplt.plot(metrics_df['steps'], metrics_df['eval_accuracy'], label='Evaluation Accuracy', marker='o')\n\n# Plotting eval_f1\nplt.plot(metrics_df['steps'], metrics_df['eval_f1'], label='Evaluation F1 Score', marker='o')\n\n# Plot validation accuracy\nplt.plot(eval_logs[\"step\"], eval_logs[\"validation_accuracy\"], label=\"Validation Accuracy\", marker=\"o\")\n\n# Adding labels and title\nplt.title('Evaluation Metrics (Accuracy, F1 Score)')\nplt.xlabel('Training Steps')\nplt.ylabel('Metric Value')\nplt.legend()\nplt.grid(True)\nplt.show()\n",
      "metadata": {
        "trusted": true,
        "execution": {
          "iopub.status.busy": "2024-11-26T16:54:53.329199Z",
          "iopub.execute_input": "2024-11-26T16:54:53.329544Z",
          "iopub.status.idle": "2024-11-26T16:54:53.647514Z",
          "shell.execute_reply.started": "2024-11-26T16:54:53.329513Z",
          "shell.execute_reply": "2024-11-26T16:54:53.646679Z"
        }
      },
      "outputs": [
        {
          "output_type": "display_data",
          "data": {
            "text/plain": "<Figure size 1200x600 with 1 Axes>",
            "image/png": "[encoded data removed]"
          },
          "metadata": {}
        }
      ],
      "execution_count": 115
    },
    {
      "cell_type": "code",
      "source": "import matplotlib.pyplot as plt\n\n\nsteps_per_epoch = 50\n\n# Adjust the x-axis index to represent actual steps\nmetrics_df['steps'] = metrics_df.index * steps_per_epoch  # Convert index to steps\n\n# Plotting Evaluation Loss\nplt.figure(figsize=(10, 5))\n\nplt.plot(metrics_df['steps'], metrics_df['eval_loss'], label='Evaluation Loss', color='blue', marker='o')\n\n# Adding labels and title\nplt.title('Evaluation Loss Over Training Steps')\nplt.xlabel('Training Steps')\nplt.ylabel('Evaluation Loss')\nplt.legend()\nplt.grid(True)\nplt.show()\n",
      "metadata": {
        "trusted": true,
        "execution": {
          "iopub.status.busy": "2024-11-26T16:54:58.950637Z",
          "iopub.execute_input": "2024-11-26T16:54:58.951394Z",
          "iopub.status.idle": "2024-11-26T16:54:59.153068Z",
          "shell.execute_reply.started": "2024-11-26T16:54:58.951359Z",
          "shell.execute_reply": "2024-11-26T16:54:59.152145Z"
        }
      },
      "outputs": [
        {
          "output_type": "display_data",
          "data": {
            "text/plain": "<Figure size 1000x500 with 1 Axes>",
            "image/png": "[encoded data removed]"
          },
          "metadata": {}
        }
      ],
      "execution_count": 116
    },
    {
      "cell_type": "code",
      "source": "preds_outputs = trainer.predict(emotions_encoded['test'])\npreds_outputs.metrics",
      "metadata": {
        "trusted": true,
        "execution": {
          "iopub.status.busy": "2024-11-26T16:55:06.806503Z",
          "iopub.execute_input": "2024-11-26T16:55:06.806899Z",
          "iopub.status.idle": "2024-11-26T16:55:09.234612Z",
          "shell.execute_reply.started": "2024-11-26T16:55:06.806868Z",
          "shell.execute_reply": "2024-11-26T16:55:09.233840Z"
        }
      },
      "outputs": [
        {
          "name": "stderr",
          "text": "/opt/conda/lib/python3.10/site-packages/torch/nn/parallel/parallel_apply.py:79: FutureWarning: `torch.cuda.amp.autocast(args...)` is deprecated. Please use `torch.amp.autocast('cuda', args...)` instead.\n  with torch.cuda.device(device), torch.cuda.stream(stream), autocast(enabled=autocast_enabled):\n/opt/conda/lib/python3.10/site-packages/torch/nn/parallel/_functions.py:68: UserWarning: Was asked to gather along dimension 0, but all input tensors were scalars; will instead unsqueeze and return a vector.\n  warnings.warn('Was asked to gather along dimension 0, but all '\n",
          "output_type": "stream"
        },
        {
          "output_type": "display_data",
          "data": {
            "text/plain": "<IPython.core.display.HTML object>",
            "text/html": ""
          },
          "metadata": {}
        },
        {
          "execution_count": 117,
          "output_type": "execute_result",
          "data": {
            "text/plain": "{'test_loss': 0.21136806905269623,\n 'test_eval_accuracy': 0.918,\n 'test_eval_f1': 0.917445261851766,\n 'test_runtime': 2.4156,\n 'test_samples_per_second': 827.939,\n 'test_steps_per_second': 6.624}"
          },
          "metadata": {}
        }
      ],
      "execution_count": 117
    },
    {
      "cell_type": "code",
      "source": "import numpy as np\ny_preds = np.argmax(preds_outputs.predictions, axis=1)\ny_true = emotions_encoded['test'][:]['label']",
      "metadata": {
        "trusted": true,
        "execution": {
          "iopub.status.busy": "2024-11-26T16:55:10.934385Z",
          "iopub.execute_input": "2024-11-26T16:55:10.934990Z",
          "iopub.status.idle": "2024-11-26T16:55:11.040130Z",
          "shell.execute_reply.started": "2024-11-26T16:55:10.934957Z",
          "shell.execute_reply": "2024-11-26T16:55:11.039258Z"
        }
      },
      "outputs": [],
      "execution_count": 118
    },
    {
      "cell_type": "code",
      "source": "from sklearn.metrics import classification_report\nprint(classes)\nprint(classification_report(y_true, y_preds))",
      "metadata": {
        "trusted": true,
        "execution": {
          "iopub.status.busy": "2024-11-26T16:55:17.380265Z",
          "iopub.execute_input": "2024-11-26T16:55:17.380634Z",
          "iopub.status.idle": "2024-11-26T16:55:17.397767Z",
          "shell.execute_reply.started": "2024-11-26T16:55:17.380598Z",
          "shell.execute_reply": "2024-11-26T16:55:17.396756Z"
        }
      },
      "outputs": [
        {
          "name": "stdout",
          "text": "['sadness', 'joy', 'love', 'anger', 'fear', 'surprise']\n              precision    recall  f1-score   support\n\n           0       0.96      0.96      0.96       581\n           1       0.93      0.94      0.93       695\n           2       0.79      0.77      0.78       159\n           3       0.94      0.92      0.93       275\n           4       0.89      0.90      0.89       224\n           5       0.78      0.68      0.73        66\n\n    accuracy                           0.92      2000\n   macro avg       0.88      0.86      0.87      2000\nweighted avg       0.92      0.92      0.92      2000\n\n",
          "output_type": "stream"
        }
      ],
      "execution_count": 119
    },
    {
      "cell_type": "code",
      "source": "#testing\ntext = 'i feel like fighting '\ninput_encoded = tokenizer(text, return_tensors='pt').to(device)\nwith torch.no_grad():\n  outputs = model(**input_encoded)\n\nlogits = outputs.logits\npred = torch.argmax(logits, dim=1).item()\npred, classes[pred]\n     ",
      "metadata": {
        "trusted": true,
        "execution": {
          "iopub.status.busy": "2024-11-26T16:55:25.250430Z",
          "iopub.execute_input": "2024-11-26T16:55:25.251124Z",
          "iopub.status.idle": "2024-11-26T16:55:25.264106Z",
          "shell.execute_reply.started": "2024-11-26T16:55:25.251091Z",
          "shell.execute_reply": "2024-11-26T16:55:25.263296Z"
        }
      },
      "outputs": [
        {
          "execution_count": 120,
          "output_type": "execute_result",
          "data": {
            "text/plain": "(3, 'anger')"
          },
          "metadata": {}
        }
      ],
      "execution_count": 120
    },
    {
      "cell_type": "markdown",
      "source": "# MOVIE RECOMMENDER AND EMOTION CLASSIFIER INTERGRATION",
      "metadata": {}
    },
    {
      "cell_type": "code",
      "source": "import requests\n\n# Example: Fetching movies based on a mood or emotion\nAPI_KEY = \"70becbd496d95c2def83c8d9f22588cb\"  # Sign up on TMDb to get your API key\n\ndef get_movies_by_emotion(emotion):\n    url = f\"https://api.themoviedb.org/3/discover/movie?api_key={API_KEY}&with_genres={emotion}\"\n    response = requests.get(url)\n    return response.json()['results']\n",
      "metadata": {
        "trusted": true,
        "execution": {
          "iopub.status.busy": "2024-11-26T17:02:50.446533Z",
          "iopub.execute_input": "2024-11-26T17:02:50.446912Z",
          "iopub.status.idle": "2024-11-26T17:02:50.452393Z",
          "shell.execute_reply.started": "2024-11-26T17:02:50.446880Z",
          "shell.execute_reply": "2024-11-26T17:02:50.451468Z"
        }
      },
      "outputs": [],
      "execution_count": 121
    },
    {
      "cell_type": "code",
      "source": "from transformers import pipeline, AutoModelForSequenceClassification, AutoTokenizer\n\n# Load the fine-tuned model and tokenizer\nmodel_path = \"/kaggle/working/distilbert-finetuned-emotion\"  # Update the path if different\nmodel = AutoModelForSequenceClassification.from_pretrained(model_path)\ntokenizer = AutoTokenizer.from_pretrained(model_path)\n\n# Initialize the pipeline\nemotion_classifier = pipeline(\"text-classification\", model=model, tokenizer=tokenizer)\n\nlabel_to_emotion = {\n    \"LABEL_0\": \"sadness\",\n    \"LABEL_1\": \"joy\",\n    \"LABEL_2\": \"love\",\n    \"LABEL_3\": \"anger\",\n    \"LABEL_4\": \"fear\",\n    \"LABEL_5\": \"surprise\"\n}\n\n# Test the emotion classifier\ndef detect_mood(text):\n    prediction = emotion_classifier(text)\n    label = prediction[0][\"label\"]  # Get the label (e.g., LABEL_0)\n    emotion = label_to_emotion.get(label, \"unknown\")  # Map to emotion\n    return emotion  # Return the predicted mood label\n\n# Example:\ntext_input = \"I want to be surprised\"\ndetected_emotion = detect_mood(text_input)\nprint(f\"Detected Emotion: {detected_emotion}\")\n",
      "metadata": {
        "trusted": true,
        "execution": {
          "iopub.status.busy": "2024-11-26T17:02:52.698519Z",
          "iopub.execute_input": "2024-11-26T17:02:52.699188Z",
          "iopub.status.idle": "2024-11-26T17:02:52.832135Z",
          "shell.execute_reply.started": "2024-11-26T17:02:52.699155Z",
          "shell.execute_reply": "2024-11-26T17:02:52.831087Z"
        }
      },
      "outputs": [
        {
          "name": "stderr",
          "text": "Hardware accelerator e.g. GPU is available in the environment, but no `device` argument is passed to the `Pipeline` object. Model will be on CPU.\n",
          "output_type": "stream"
        },
        {
          "name": "stdout",
          "text": "Detected Emotion: surprise\n",
          "output_type": "stream"
        }
      ],
      "execution_count": 122
    },
    {
      "cell_type": "code",
      "source": "import requests\nfrom tabulate import tabulate\nfrom IPython.display import display, HTML\n\n\n\ndef fetch_movies(emotion):\n    \"\"\"\n    Fetch movie recommendations from TMDb based on emotion.\n    \"\"\"\n    # Map emotions to genres or themes (this can be adjusted for better results)\n    emotion_to_genre = {\n        \"joy\": ([35], \"Comedy\"),          # Comedy\n        \"sadness\": ([18], \"Drama\"),       # Drama\n        \"love\": ([10749], \"Romance\"),     # Romance\n        \"anger\": ([28], \"Action\"),        # Action\n        \"fear\": ([27], \"Horror\"),         # Horror\n        \"surprise\": ([53, 9648], \"Mystery/Thriller\")}  # Mystery and Thriller\n    \n    genre_id, genre_title = emotion_to_genre.get(emotion, (18, \"Drama\"))  # Default to Drama if emotion not mapped\n    print(f\"Fetching movies for emotion: '{emotion}' (Genre ID: {genre_id}, Genre Title: {genre_title})\")  # Debugging line  # Default to Drama (ID 18) if emotion not mapped\n    \n    # TMDb API endpoint for discovering movies\n    url = \"https://api.themoviedb.org/3/discover/movie\"\n    params = {\n        \"api_key\": API_KEY,\n        \"language\": \"en-US\",\n        \"sort_by\": \"popularity.desc\",\n        \"with_genres\": genre_id  # Adjust query based on genre\n    }\n    \n    response = requests.get(url, params=params)\n    print(f\"API Response Status Code: {response.status_code}\")  # Debugging line\n    if response.status_code == 200:\n        movies = response.json().get(\"results\", [])\n        print(f\"Number of movies found: {len(movies)}\")  # Debugging line\n        return [{\"title\": movie[\"title\"], \"overview\": movie[\"overview\"]} for movie in movies[:20]]\n    else:\n        print(f\"Error: {response.status_code}, {response.text}\")\n        return []\n\n# Example:\n# movies = fetch_movies(detected_emotion)\n# print(\"Recommended Movies:\")\n# for movie in movies:\n#     print(f\"Title: {movie['title']}, Overview: {movie['overview']}\")\n",
      "metadata": {
        "trusted": true,
        "execution": {
          "iopub.status.busy": "2024-11-26T17:03:14.183312Z",
          "iopub.execute_input": "2024-11-26T17:03:14.183676Z",
          "iopub.status.idle": "2024-11-26T17:03:14.192841Z",
          "shell.execute_reply.started": "2024-11-26T17:03:14.183644Z",
          "shell.execute_reply": "2024-11-26T17:03:14.191931Z"
        }
      },
      "outputs": [],
      "execution_count": 124
    },
    {
      "cell_type": "code",
      "source": "import random\n# Input text from the user\nuser_input = input(\"How are you feeling today? \")\n\n# Step 1: Detect emotion (you need to define this function)\ndetected_emotion = detect_mood(user_input)\nprint(f\"Detected Emotion: {detected_emotion}\")\n\n# Step 2: Fetch movies\nrecommended_movies = fetch_movies(detected_emotion)\n\n# Step 3: Display the results\nif recommended_movies:\n    # Create a DataFrame from the movie data\n    df = pd.DataFrame(recommended_movies)\n    \n    # Display the DataFrame as a table\n    display(HTML(df.to_html(index=False)))\nelse:\n    print(\"Sorry, no movie recommendations available at the moment.\")",
      "metadata": {
        "trusted": true,
        "execution": {
          "iopub.status.busy": "2024-11-26T17:03:16.079913Z",
          "iopub.execute_input": "2024-11-26T17:03:16.080255Z",
          "iopub.status.idle": "2024-11-26T17:03:40.143817Z",
          "shell.execute_reply.started": "2024-11-26T17:03:16.080225Z",
          "shell.execute_reply": "2024-11-26T17:03:40.142964Z"
        }
      },
      "outputs": [
        {
          "output_type": "stream",
          "name": "stdin",
          "text": "How are you feeling today?  I am so excited today\n"
        },
        {
          "name": "stdout",
          "text": "Detected Emotion: joy\nFetching movies for emotion: 'joy' (Genre ID: [35], Genre Title: Comedy)\nAPI Response Status Code: 200\nNumber of movies found: 20\n",
          "output_type": "stream"
        },
        {
          "output_type": "display_data",
          "data": {
            "text/plain": "<IPython.core.display.HTML object>",
            "text/html": "<table border=\"1\" class=\"dataframe\">\n  <thead>\n    <tr style=\"text-align: right;\">\n      <th>title</th>\n      <th>overview</th>\n    </tr>\n  </thead>\n  <tbody>\n    <tr>\n      <td>Deadpool &amp; Wolverine</td>\n      <td>A listless Wade Wilson toils away in civilian life with his days as the morally flexible mercenary, Deadpool, behind him. But when his homeworld faces an existential threat, Wade must reluctantly suit-up again with an even more reluctant Wolverine.</td>\n    </tr>\n    <tr>\n      <td>Moana 2</td>\n      <td>After receiving an unexpected call from her wayfinding ancestors, Moana journeys alongside Maui and a new crew to the far seas of Oceania and into dangerous, long-lost waters for an adventure unlike anything she's ever faced.</td>\n    </tr>\n    <tr>\n      <td>Red One</td>\n      <td>After Santa Claus (codename: Red One) is kidnapped, the North Pole's Head of Security must team up with the world's most infamous bounty hunter in a globe-trotting, action-packed mission to save Christmas.</td>\n    </tr>\n    <tr>\n      <td>Despicable Me 4</td>\n      <td>Gru and Lucy and their girls\u2014Margo, Edith and Agnes\u2014welcome a new member to the Gru family, Gru Jr., who is intent on tormenting his dad. Gru also faces a new nemesis in Maxime Le Mal and his femme fatale girlfriend Valentina, forcing the family to go on the run.</td>\n    </tr>\n    <tr>\n      <td>Sing: Thriller</td>\n      <td>Buster Moon dreams up a star-studded spectacle set to Michael Jackson's \"Thriller\" in this animated short featuring characters from the hit \"Sing\" films.</td>\n    </tr>\n    <tr>\n      <td>The Bad Guys: Haunted Heist</td>\n      <td>The crafty Bad Guys crew embarks on a high-stakes Halloween heist to swipe a priceless amulet from a spooky mansion. What could go wrong?</td>\n    </tr>\n    <tr>\n      <td>Bad Boys: Ride or Die</td>\n      <td>After their late former Captain is framed, Lowrey and Burnett try to clear his name, only to end up on the run themselves.</td>\n    </tr>\n    <tr>\n      <td>We Live in Time</td>\n      <td>An up-and-coming chef and a recent divorc\u00e9e find their lives forever changed when a chance encounter brings them together, in a decade-spanning, deeply moving romance.</td>\n    </tr>\n    <tr>\n      <td>Beetlejuice Beetlejuice</td>\n      <td>After a family tragedy, three generations of the Deetz family return home to Winter River. Still haunted by Betelgeuse, Lydia's life is turned upside down when her teenage daughter, Astrid, accidentally opens the portal to the Afterlife.</td>\n    </tr>\n    <tr>\n      <td>IF</td>\n      <td>After discovering she can see everyone's imaginary friends, a girl embarks on a magical adventure to reconnect forgotten imaginary friends with their kids.</td>\n    </tr>\n    <tr>\n      <td>SpongeBob Squarepants: Kreepaway Kamp</td>\n      <td>While at Kamp Koral for a reunion, SpongeBob and the gang are stalked by a mysterious figure lurking in the shadows as campers start disappearing one by one!</td>\n    </tr>\n    <tr>\n      <td>The Canterville Ghost</td>\n      <td>An American family moves in to the Canterville Chase, a London mansion that has been haunted by ghost Sir Simon De Canterville for 300 years.</td>\n    </tr>\n    <tr>\n      <td>Spellbound</td>\n      <td>When a powerful spell turns her parents into giant monsters, a teenage princess must journey into the wild to reverse the curse before it's too late.</td>\n    </tr>\n    <tr>\n      <td>Brothers</td>\n      <td>A reformed criminal's attempt at going straight is derailed when he reunites with his sanity-testing twin brother on a road trip for the score of a lifetime. Dodging bullets, the law, and an overbearing mother along the way, they must heal their severed family bond before they end up killing each other.</td>\n    </tr>\n    <tr>\n      <td>The Garfield Movie</td>\n      <td>Garfield, the world-famous, Monday-hating, lasagna-loving indoor cat, is about to have a wild outdoor adventure! After an unexpected reunion with his long-lost father \u2013 scruffy street cat Vic \u2013 Garfield and his canine friend Odie are forced from their perfectly pampered life into joining Vic in a hilarious, high-stakes heist.</td>\n    </tr>\n    <tr>\n      <td>Borderlands</td>\n      <td>Returning to her home planet, an infamous bounty hunter forms an unexpected alliance with a team of unlikely heroes. Together, they battle monsters and dangerous bandits to protect a young girl who holds the key to unimaginable power.</td>\n    </tr>\n    <tr>\n      <td>Wolfs</td>\n      <td>Hired to cover up a high-profile crime, a fixer soon finds his night spiralling out of control when he's forced to work with an unexpected counterpart.</td>\n    </tr>\n    <tr>\n      <td>My Old Ass</td>\n      <td>An 18th birthday mushroom trip brings free-spirited Elliott face-to-face with her wisecracking 39-year-old self. But when Elliott\u2019s \"old ass\" starts handing out warnings about what her younger self should and shouldn't do, Elliott realizes she has to rethink everything about family, love, and what's becoming a transformative summer.</td>\n    </tr>\n    <tr>\n      <td>Sonic the Hedgehog 3</td>\n      <td>Sonic, Knuckles, and Tails reunite against a powerful new adversary, Shadow, a mysterious villain with powers unlike anything they have faced before. With their abilities outmatched in every way, Team Sonic must seek out an unlikely alliance in hopes of stopping Shadow and protecting the planet.</td>\n    </tr>\n    <tr>\n      <td>Migration</td>\n      <td>After a migrating duck family alights on their pond with thrilling tales of far-flung places, the Mallard family embarks on a family road trip, from New England, to New York City, to tropical Jamaica.</td>\n    </tr>\n  </tbody>\n</table>"
          },
          "metadata": {}
        }
      ],
      "execution_count": 125
    },
    {
      "cell_type": "code",
      "source": "",
      "metadata": {
        "trusted": true
      },
      "outputs": [],
      "execution_count": null
    }
  ]
}